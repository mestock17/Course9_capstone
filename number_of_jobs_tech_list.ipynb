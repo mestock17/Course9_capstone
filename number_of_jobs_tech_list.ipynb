tech_list=["adobe", "Azure", "Docker", "DynaTrace", "Splunk", "TFS", "Git", "VSTS", "AWS", "Bde", "xml", "google analytics"]
!pip install openpyxl
from openpyxl import Workbook
wb=Workbook()
ws=wb.active
ws.append(['Technology', 'Number of Jobs'])
def get_number_of_jobs_T2(tech_list):
    number_of_jobs_list = []
    for tech in tech_list:
        payload={"Key Skills": tech_list}
        response = requests.get(api_url, params=payload)
        if response.ok:
            data=response.json()
            number_of_jobs = len(data)
            number_of_jobs_list.append(number_of_jobs)
    return number_of_jobs_list
get_number_of_jobs_T2(tech_list)
#the output I receive is: []
#I get a table with the headings "Technology", "Number of Jobs" and the rest of the table says "None"
